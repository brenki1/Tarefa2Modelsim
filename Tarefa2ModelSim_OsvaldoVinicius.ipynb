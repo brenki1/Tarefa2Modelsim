{
 "cells": [
  {
   "metadata": {},
   "cell_type": "markdown",
   "source": [
    "## Atividade 2 ModelSim - Cadeias de Markov e Bernoulli\n",
    "\n",
    "### Alunos:\n",
    "#### Osvaldo Pagioli de Lollo Silva - 12221BCC047\n",
    "#### Vinicius Lima Carvalho - 12221BCC018"
   ],
   "id": "e80a25d43225c2b3"
  },
  {
   "metadata": {},
   "cell_type": "markdown",
   "source": "Questão 1) Para um dado de seis faces tradicional e justo – isto é, P(Xi = k) = 1/6, ∀k ∈ {1, 2, 3, 4, 5, 6} – calcule o número esperado de lançamentos até que ocorram dois valores consecutivos\n",
   "id": "4d8be107c69167f0"
  },
  {
   "metadata": {},
   "cell_type": "code",
   "outputs": [],
   "execution_count": null,
   "source": "",
   "id": "cb547f5790346fba"
  },
  {
   "metadata": {},
   "cell_type": "markdown",
   "source": [
    "Questão 2) Uma seguradora de automóveis classifica seus clientes em três categorias:\n",
    "não-desejáveis, satisfatórios e preferenciais. A classificação de um\n",
    "cliente pode mudar de um ano para o seguinte, sendo que não é possível\n",
    "passar de preferencial a não-desejável e vice-versa. 40% dos segurados\n",
    "não-desejáveis tornam-se satisfatórios; 30% dos satisfatórios tornam-se\n",
    "preferenciais, ao passo que 10% dos mesmos tornam-se não-desejáveis;\n",
    "e 20% dos preferenciais são rebaixados a satisfatórios.\n",
    "\n",
    "A longo prazo, quais serão as proporções de clientes em cada uma\n",
    "das três classes?\n"
   ],
   "id": "6bcabe2a4b3199b5"
  },
  {
   "metadata": {},
   "cell_type": "code",
   "outputs": [],
   "execution_count": null,
   "source": "",
   "id": "cdf8e27894aa17a7"
  },
  {
   "metadata": {},
   "cell_type": "markdown",
   "source": "Questão 3) Numa estrada há carros e caminhões. Três de cada quatro caminhões na estrada são seguidos por um carro, enquanto que apenas um de cada cinco carros é seguido por um caminhão. Qual a porcentagem de caminhões na estrada?",
   "id": "38988179d6521faf"
  },
  {
   "metadata": {},
   "cell_type": "code",
   "outputs": [],
   "execution_count": null,
   "source": "",
   "id": "b960fd8698e30da1"
  },
  {
   "metadata": {},
   "cell_type": "markdown",
   "source": [
    "Questão 4) Numa estrada há carros e caminhões. Três de cada quatro caminhões\n",
    "na estrada são seguidos por um carro, enquanto que apenas um de\n",
    "cada cinco carros é seguido por um caminhão. Qual a porcentagem de\n",
    "caminhões na estrada?"
   ],
   "id": "904f057c3849ef2d"
  },
  {
   "metadata": {},
   "cell_type": "code",
   "outputs": [],
   "execution_count": null,
   "source": "",
   "id": "df0464676cd9642c"
  },
  {
   "metadata": {},
   "cell_type": "markdown",
   "source": [
    "Questão 5) Se você aposta em cinquenta sorteios diferentes de uma loteria, em cada\n",
    "qual sua chance de ganho é de 1%, qual a probabilidade (aproximada)\n",
    "de que ganhará exatamente uma vez?\n"
   ],
   "id": "c09354ccc627ed58"
  }
 ],
 "metadata": {},
 "nbformat": 4,
 "nbformat_minor": 5
}
