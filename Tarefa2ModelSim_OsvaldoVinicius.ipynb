{
 "cells": [
  {
   "metadata": {},
   "cell_type": "markdown",
   "source": [
    "## Atividade 2 ModelSim - Cadeias de Markov e Bernoulli\n",
    "\n",
    "### Alunos:\n",
    "#### Osvaldo Pagioli de Lollo Silva - 12221BCC047\n",
    "#### Vinicius Lima Carvalho - 12221BCC018"
   ],
   "id": "e80a25d43225c2b3"
  },
  {
   "metadata": {},
   "cell_type": "markdown",
   "source": [
    "Lista de exercícios 1 - Cadeias de Markov e Simulações de Monte Carlo\n",
    "<br>Questão 3) Para um dado de seis faces tradicional e justo – isto é, P(Xi = k) = 1/6, ∀k ∈ {1, 2, 3, 4, 5, 6} – calcule o número esperado de lançamentos até que ocorram dois valores consecutivos\n"
   ],
   "id": "4d8be107c69167f0"
  },
  {
   "metadata": {
    "jupyter": {
     "is_executing": true
    }
   },
   "cell_type": "code",
   "source": [
    "import random\n",
    "\n",
    "import numpy as np\n",
    "\n",
    "def jogadaDados():\n",
    "    lancamentos = 0\n",
    "    anterior = 0\n",
    "\n",
    "    while True:\n",
    "        lancamentoAtual = np.random.randint(1,7)\n",
    "        lancamentos = lancamentos + 1\n",
    "\n",
    "        if lancamentoAtual == anterior:\n",
    "            break\n",
    "\n",
    "        anterior = lancamentoAtual\n",
    "    return lancamentos\n",
    "\n",
    "qtd_simulacoes = 100000\n",
    "resultados = []\n",
    "\n",
    "for i in range(qtd_simulacoes):\n",
    "    resultados.append(jogadaDados())\n",
    "\n",
    "numeroEspLanc = np.mean(resultados)\n",
    "\n",
    "print(f\"Número esperado de resultados utilizando simulação de Monte Carlo: {numeroEspLanc}\")"
   ],
   "id": "cb547f5790346fba",
   "outputs": [],
   "execution_count": null
  },
  {
   "metadata": {},
   "cell_type": "markdown",
   "source": [
    "Questão 14) e) Uma seguradora de automóveis classifica seus clientes em três categorias:\n",
    "não-desejáveis, satisfatórios e preferenciais. A classificação de um\n",
    "cliente pode mudar de um ano para o seguinte, sendo que não é possível\n",
    "passar de preferencial a não-desejável e vice-versa. 40% dos segurados\n",
    "não-desejáveis tornam-se satisfatórios; 30% dos satisfatórios tornam-se\n",
    "preferenciais, ao passo que 10% dos mesmos tornam-se não-desejáveis;\n",
    "e 20% dos preferenciais são rebaixados a satisfatórios.\n",
    "\n",
    "A longo prazo, quais serão as proporções de clientes em cada uma\n",
    "das três classes?\n"
   ],
   "id": "6bcabe2a4b3199b5"
  },
  {
   "metadata": {},
   "cell_type": "code",
   "outputs": [],
   "execution_count": null,
   "source": [
    "import numpy as np\n",
    "\n",
    "categorias=[\"ND\", \"S\", \"PF\"]\n",
    "\n",
    "M = np.array([\n",
    "    [0.6,0.4,0.0],\n",
    "    [0.1,0.6,0.3],\n",
    "    [0.0,0.2,0.8]\n",
    "])\n",
    "qtd_transicoes = 100\n",
    "qtd_cl = 100000\n",
    "\n",
    "estados_iniciais = np.random.choice([0,1,2], size=qtd_cl, p=[1/3, 1/3, 1/3])\n",
    "estados_atuais = estados_iniciais.copy()\n",
    "\n",
    "for ano in range(qtd_transicoes):\n",
    "    prox_estados = np.zeros_like(estados_atuais)\n",
    "    for i in range(qtd_cl):\n",
    "        estado_atual = estados_atuais[i]\n",
    "        prox_estado = np.random.choice([0,1,2],p = M[estado_atual])\n",
    "        prox_estados[i] = prox_estado\n",
    "    estados_atuais = prox_estados\n",
    "\n",
    "proporcao_final = np.bincount(estados_atuais,minlength=3) /qtd_cl * 100\n",
    "print(\"Proporção de clientes em cada uma das três classes:\\n\")\n",
    "for i,categorias in enumerate(categorias):\n",
    "    print(f\"{categorias}: {proporcao_final[i]}%\")\n",
    "\n"
   ],
   "id": "b960fd8698e30da1"
  },
  {
   "metadata": {},
   "cell_type": "markdown",
   "source": [
    "Questão 16) Numa estrada há carros e caminhões. Três de cada quatro caminhões\n",
    "na estrada são seguidos por um carro, enquanto que apenas um de\n",
    "cada cinco carros é seguido por um caminhão. Qual a porcentagem de\n",
    "caminhões na estrada?"
   ],
   "id": "904f057c3849ef2d"
  },
  {
   "metadata": {
    "jupyter": {
     "is_executing": true
    }
   },
   "cell_type": "code",
   "source": [
    "import numpy as np\n",
    "import random\n",
    "\n",
    "def estrada(veiculos):\n",
    "    veiculos_estrada = []\n",
    "\n",
    "    veiculo_atual = random.choice([\"Caminhão\", \"Carro\"])\n",
    "    veiculos_estrada.append(veiculo_atual)\n",
    "\n",
    "    for i in range(veiculos - 1):\n",
    "        if veiculo_atual == 'Caminhão':\n",
    "            rndm = np.random.default_rng()\n",
    "            if rndm.uniform() < 0.75:\n",
    "                veiculo_atual = 'Carro'\n",
    "            else:\n",
    "                veiculo_atual = 'Caminhão'\n",
    "        elif veiculo_atual == 'Carro':\n",
    "            rndm = np.random.default_rng()\n",
    "            if rndm.uniform() < 0.20:\n",
    "                veiculo_atual = 'Caminhão'\n",
    "            else:\n",
    "                veiculo_atual = 'Carro'\n",
    "        veiculos_estrada.append(veiculo_atual)\n",
    "\n",
    "    qtd_caminhoes = veiculos_estrada.count(\"Caminhão\")\n",
    "    pctg_cam = (qtd_caminhoes/veiculos)*100\n",
    "\n",
    "    return pctg_cam\n",
    "\n",
    "simulacaoMonteCarlo = estrada(100000)\n",
    "\n",
    "print(f\"A porcentagem de caminhões na estrada utilizando simulação de Monte Carlo com 100.000 veículos é: {simulacaoMonteCarlo}\")\n"
   ],
   "id": "df0464676cd9642c",
   "outputs": [],
   "execution_count": null
  },
  {
   "metadata": {},
   "cell_type": "markdown",
   "source": [
    "Lista de exercícios 2 - Bernoulli e Processos de Poisson\n",
    "<br>Questão 2) Sabe-se que cada item produzido por uma certa máquina será defeituoso com uma probabilidade 0,001, independentemente de qualquer outro item. Qual a probabilidade de que em uma amostra contendo três itens, pelo menos um esteja com defeito?"
   ],
   "id": "daca0276e3f3622b"
  },
  {
   "metadata": {
    "ExecuteTime": {
     "end_time": "2025-08-08T20:00:59.647217Z",
     "start_time": "2025-08-08T20:00:59.640376Z"
    }
   },
   "cell_type": "code",
   "source": [
    "p_defeito = 0.001 # probabilidade de um item ser defeituoso\n",
    "\n",
    "tam = 3 # tamanho da amostra\n",
    "\n",
    "p_semdefeito = 1 - p_defeito # probabilidade de um item não ser defeituoso\n",
    "\n",
    "# calculando a probabilidade de nenhum item apresentar defeito (prob. de um item não possuir defeito elevado ao tamanho da amostra)\n",
    "p_nenhumcomdefeito = p_semdefeito ** tam\n",
    "\n",
    "p_min_um_defeito = 1 - p_nenhumcomdefeito\n",
    "\n",
    "print(f\"A probabilidade de um item não apresentar defeito é de {p_semdefeito:.5%}\")\n",
    "print(f\"A probabilidade de nenhum item apresentar defeito é de {p_nenhumcomdefeito:.5%}\")\n",
    "print(f\"A probabilidade de pelo menos um item apresentar defeito é de {p_min_um_defeito:.5%}\")\n"
   ],
   "id": "546a7ead795682e8",
   "outputs": [
    {
     "name": "stdout",
     "output_type": "stream",
     "text": [
      "A probabilidade de um item não apresentar defeito é de 99.90000%\n",
      "A probabilidade de nenhum item apresentar defeito é de 99.70030%\n",
      "A probabilidade de pelo menos um item apresentar defeito é de 0.29970%\n"
     ]
    }
   ],
   "execution_count": 10
  },
  {
   "metadata": {},
   "cell_type": "markdown",
   "source": "Questão 3) b) Se você aposta em cinquenta sorteios diferentes de uma loteria, em cada qual sua chance de ganho é de 1%, qual a probabilidade (aproximada) de que ganhará exatamente uma vez?",
   "id": "3f7ddf86e069c4bd"
  },
  {
   "metadata": {
    "ExecuteTime": {
     "end_time": "2025-08-08T20:01:03.466955Z",
     "start_time": "2025-08-08T20:01:03.457547Z"
    }
   },
   "cell_type": "code",
   "source": [
    "import math\n",
    "\n",
    "# Usando a distribuição binomial:\n",
    "\n",
    "n = 50 # número de tentativas\n",
    "p = 0.01 # chance de ganho\n",
    "k = 1 # número de vitórias desejadas\n",
    "\n",
    "# Calculando o parâmetro Lâmbda\n",
    "lambda_par = n * p\n",
    "\n",
    "# Aplicando a fórmula de Poisson\n",
    "p_kvitorias = ((lambda_par ** k) * (math.exp(-lambda_par))) / math.factorial(k)\n",
    "\n",
    "print(f\"A probabilidade de uma única vitória em {n} sorteios é de {p_kvitorias:.3%}\")"
   ],
   "id": "9d89e2afca7e84cc",
   "outputs": [
    {
     "name": "stdout",
     "output_type": "stream",
     "text": [
      "A probabilidade de uma única vitória em 50 sorteios é de 30.327%\n"
     ]
    }
   ],
   "execution_count": 11
  }
 ],
 "metadata": {},
 "nbformat": 4,
 "nbformat_minor": 5
}
